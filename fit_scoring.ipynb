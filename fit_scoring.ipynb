{
 "cells": [
  {
   "cell_type": "code",
   "execution_count": 1,
   "metadata": {
    "collapsed": true,
    "pycharm": {
     "name": "#%%\n"
    }
   },
   "outputs": [],
   "source": [
    "import json\n",
    "import numpy as np\n",
    "\n",
    "with open('samples.json', 'r', encoding='utf-8') as f:\n",
    "    samples = json.load(f)"
   ]
  },
  {
   "cell_type": "code",
   "execution_count": 2,
   "outputs": [
    {
     "data": {
      "text/plain": "dict_keys(['нагрузочное тестирование', 'мотивация', 'редактор кода', 'конференция для разработчиков', 'олимпиада по программированию', 'методы кластеризации', 'удалённая работа'])"
     },
     "execution_count": 2,
     "metadata": {},
     "output_type": "execute_result"
    }
   ],
   "source": [
    "samples.keys()"
   ],
   "metadata": {
    "collapsed": false,
    "pycharm": {
     "name": "#%%\n"
    }
   }
  },
  {
   "cell_type": "markdown",
   "source": [
    "Use dumped search, because multiprocessing requires main block for correct work"
   ],
   "metadata": {
    "collapsed": false
   }
  },
  {
   "cell_type": "code",
   "execution_count": 3,
   "outputs": [],
   "source": [
    "import search\n",
    "import logging\n",
    "\n",
    "search_logger = logging.getLogger('search')\n",
    "search_logger.setLevel(logging.WARNING)\n",
    "\n",
    "search.build_search()\n",
    "scorer = search.scorer"
   ],
   "metadata": {
    "collapsed": false,
    "pycharm": {
     "name": "#%%\n"
    }
   }
  },
  {
   "cell_type": "code",
   "execution_count": 4,
   "outputs": [],
   "source": [
    "def apk(actual: np.array, predicted: np.array, k: int = 10) -> float:\n",
    "    actual = set(actual)\n",
    "    pk_sum = 0\n",
    "    cur_sum = 0\n",
    "    for i in range(k):\n",
    "        if predicted[i] in actual:\n",
    "            cur_sum += 1\n",
    "            pk_sum += cur_sum / (i + 1)\n",
    "    return pk_sum / k"
   ],
   "metadata": {
    "collapsed": false,
    "pycharm": {
     "name": "#%%\n"
    }
   }
  },
  {
   "cell_type": "code",
   "execution_count": 5,
   "outputs": [],
   "source": [
    "from typing import Dict, Tuple\n",
    "\n",
    "\n",
    "def query_score(query: str, weights: Dict[str, float]) -> float:\n",
    "    scorer.score_weights = weights\n",
    "    article_indices = search.retrieve_indices(query)\n",
    "    scored = [(search.articles[ind].id, scorer.score(query, ind)) for ind in article_indices]\n",
    "    scored = sorted(scored, key=lambda doc: -doc[1])\n",
    "    predicted = [article_id for article_id, score in scored]\n",
    "    actual = samples[query]\n",
    "    return apk(actual, predicted, 10)\n",
    "\n",
    "\n",
    "def total_score(weights: Dict[str, float]) -> float:\n",
    "    return sum(query_score(query, weights) for query in samples) / len(samples)"
   ],
   "metadata": {
    "collapsed": false,
    "pycharm": {
     "name": "#%%\n"
    }
   }
  },
  {
   "cell_type": "code",
   "execution_count": 6,
   "outputs": [],
   "source": [
    "from itertools import product\n",
    "\n",
    "\n",
    "def weight_list_to_dict(weight_list: Tuple[float]) -> Dict[str, float]:\n",
    "    return {'word2vec_text': weight_list[0],\n",
    "            'tfidf_text': weight_list[1],\n",
    "            'word2vec_title': weight_list[2],\n",
    "            'tfidf_title': weight_list[3]\n",
    "            }\n",
    "\n",
    "\n",
    "best_weights = {}\n",
    "best_score = 0\n",
    "for weight_list in product(np.arange(0.1, 1, 0.3), repeat=4):\n",
    "    weights = weight_list_to_dict(weight_list)\n",
    "    score = total_score(weights)\n",
    "    if score > best_score:\n",
    "        best_score = score\n",
    "        best_weights = weights"
   ],
   "metadata": {
    "collapsed": false,
    "pycharm": {
     "name": "#%%\n"
    }
   }
  },
  {
   "cell_type": "code",
   "execution_count": 7,
   "outputs": [
    {
     "data": {
      "text/plain": "({'word2vec_text': 0.1,\n  'tfidf_text': 0.7000000000000001,\n  'word2vec_title': 0.1,\n  'tfidf_title': 0.4},\n 0.5046201814058958)"
     },
     "execution_count": 7,
     "metadata": {},
     "output_type": "execute_result"
    }
   ],
   "source": [
    "best_weights, best_score"
   ],
   "metadata": {
    "collapsed": false,
    "pycharm": {
     "name": "#%%\n"
    }
   }
  },
  {
   "cell_type": "code",
   "execution_count": 8,
   "outputs": [],
   "source": [
    "best_weights = {}\n",
    "best_score = 0\n",
    "for weight_list in product([0.05, 0.1, 0.2], [0.5, 0.7, 0.8, 0.9], [0.01, 0.05, 0.1], [0.3, 0.4, 0.5]):\n",
    "    weights = weight_list_to_dict(weight_list)\n",
    "    score = total_score(weights)\n",
    "    if score > best_score:\n",
    "        best_score = score\n",
    "        best_weights = weights"
   ],
   "metadata": {
    "collapsed": false,
    "pycharm": {
     "name": "#%%\n"
    }
   }
  },
  {
   "cell_type": "code",
   "execution_count": 9,
   "outputs": [
    {
     "data": {
      "text/plain": "({'word2vec_text': 0.1,\n  'tfidf_text': 0.9,\n  'word2vec_title': 0.05,\n  'tfidf_title': 0.3},\n 0.508015873015873)"
     },
     "execution_count": 9,
     "metadata": {},
     "output_type": "execute_result"
    }
   ],
   "source": [
    "best_weights, best_score"
   ],
   "metadata": {
    "collapsed": false,
    "pycharm": {
     "name": "#%%\n"
    }
   }
  }
 ],
 "metadata": {
  "kernelspec": {
   "display_name": "Python 3",
   "language": "python",
   "name": "python3"
  },
  "language_info": {
   "codemirror_mode": {
    "name": "ipython",
    "version": 2
   },
   "file_extension": ".py",
   "mimetype": "text/x-python",
   "name": "python",
   "nbconvert_exporter": "python",
   "pygments_lexer": "ipython2",
   "version": "2.7.6"
  }
 },
 "nbformat": 4,
 "nbformat_minor": 0
}